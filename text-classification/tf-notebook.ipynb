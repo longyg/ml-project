{
 "cells": [
  {
   "cell_type": "code",
   "execution_count": 1,
   "metadata": {},
   "outputs": [
    {
     "name": "stdout",
     "output_type": "stream",
     "text": [
      "/root/workspace/projects/ml-project/text-classification\n",
      "/root/workspace/projects/ml-project/text-classification/../cook-prediction\n",
      "/root/workspace/projects/ml-project/cook-prediction/train.json\n",
      "/root/workspace/projects/ml-project/cook-prediction/test.json\n"
     ]
    }
   ],
   "source": [
    "import load_data\n",
    "from train_embed_model import train_embed_model"
   ]
  },
  {
   "cell_type": "code",
   "execution_count": 2,
   "metadata": {},
   "outputs": [],
   "source": [
    "import matplotlib.pyplot as plt\n",
    "\n",
    "def plot_loss(history):\n",
    "    loss = history['loss']\n",
    "    val_loss = history['val_loss']\n",
    "    epochs = range(1, len(loss) + 1)\n",
    "    plt.plot(epochs, loss, 'bo', label='Training loss')\n",
    "    plt.plot(epochs, val_loss, 'b', label='Validation loss')\n",
    "    plt.title('Training and validation loss')\n",
    "    plt.xlabel('Epochs')\n",
    "    plt.ylabel('Loss')\n",
    "    plt.legend()\n",
    "    plt.show()\n",
    "    \n",
    "def plot_acc(history):\n",
    "    acc = history['acc']\n",
    "    val_acc = history['val_acc']\n",
    "    epochs = range(1, len(acc) + 1)\n",
    "    plt.plot(epochs, acc, 'bo', label='Training acc')\n",
    "    plt.plot(epochs, val_acc, 'b', label='Validation acc')\n",
    "    plt.title('Training and validation accuracy')\n",
    "    plt.xlabel('Epochs')\n",
    "    plt.ylabel('Accuracy')\n",
    "    plt.legend()\n",
    "    plt.show()"
   ]
  },
  {
   "cell_type": "code",
   "execution_count": 3,
   "metadata": {},
   "outputs": [],
   "source": [
    "class_names, data = load_data.load_cook_train_data(isLemmatize=True)"
   ]
  },
  {
   "cell_type": "code",
   "execution_count": null,
   "metadata": {},
   "outputs": [
    {
     "name": "stderr",
     "output_type": "stream",
     "text": [
      "WARNING: Logging before flag parsing goes to stderr.\n",
      "W0613 05:12:48.178851 140181690746688 deprecation.py:323] From /root/anaconda3/lib/python3.7/site-packages/tensorflow/python/ops/math_grad.py:1250: add_dispatch_support.<locals>.wrapper (from tensorflow.python.ops.array_ops) is deprecated and will be removed in a future version.\n",
      "Instructions for updating:\n",
      "Use tf.where in 2.0, which has the same broadcast rule as np.where\n"
     ]
    },
    {
     "name": "stdout",
     "output_type": "stream",
     "text": [
      "Epoch 1/60\n",
      "125/125 [==============================] - 137s 1s/step - loss: 2.2698 - acc: 0.3697 - val_loss: 1.5883 - val_acc: 0.5632\n",
      "Epoch 2/60\n",
      "125/125 [==============================] - 138s 1s/step - loss: 1.5289 - acc: 0.5769 - val_loss: 1.2490 - val_acc: 0.6539\n",
      "Epoch 3/60\n",
      "125/125 [==============================] - 137s 1s/step - loss: 1.3062 - acc: 0.6422 - val_loss: 1.1140 - val_acc: 0.6890\n",
      "Epoch 4/60\n",
      "125/125 [==============================] - 139s 1s/step - loss: 1.1892 - acc: 0.6723 - val_loss: 1.0412 - val_acc: 0.7084\n",
      "Epoch 5/60\n",
      "125/125 [==============================] - 138s 1s/step - loss: 1.1183 - acc: 0.6957 - val_loss: 0.9920 - val_acc: 0.7260\n",
      "Epoch 6/60\n",
      "125/125 [==============================] - 138s 1s/step - loss: 1.0671 - acc: 0.7071 - val_loss: 0.9568 - val_acc: 0.7363\n",
      "Epoch 7/60\n",
      "125/125 [==============================] - 140s 1s/step - loss: 1.0283 - acc: 0.7178 - val_loss: 0.9353 - val_acc: 0.7423\n",
      "Epoch 8/60\n",
      "125/125 [==============================] - 140s 1s/step - loss: 0.9979 - acc: 0.7296 - val_loss: 0.9171 - val_acc: 0.7478\n",
      "Epoch 9/60\n",
      "125/125 [==============================] - 139s 1s/step - loss: 0.9740 - acc: 0.7325 - val_loss: 0.8994 - val_acc: 0.7561\n",
      "Epoch 10/60\n",
      "125/125 [==============================] - 139s 1s/step - loss: 0.9501 - acc: 0.7388 - val_loss: 0.8891 - val_acc: 0.7566\n",
      "Epoch 11/60\n",
      "125/125 [==============================] - 139s 1s/step - loss: 0.9306 - acc: 0.7414 - val_loss: 0.8776 - val_acc: 0.7600\n",
      "Epoch 12/60\n",
      "125/125 [==============================] - 138s 1s/step - loss: 0.9204 - acc: 0.7467 - val_loss: 0.8708 - val_acc: 0.7646\n",
      "Epoch 13/60\n",
      "125/125 [==============================] - 139s 1s/step - loss: 0.9010 - acc: 0.7513 - val_loss: 0.8664 - val_acc: 0.7618\n",
      "Epoch 14/60\n",
      "125/125 [==============================] - 139s 1s/step - loss: 0.8872 - acc: 0.7505 - val_loss: 0.8590 - val_acc: 0.7629\n",
      "Epoch 15/60\n",
      "125/125 [==============================] - 139s 1s/step - loss: 0.8836 - acc: 0.7560 - val_loss: 0.8523 - val_acc: 0.7642\n",
      "Epoch 16/60\n",
      "125/125 [==============================] - 139s 1s/step - loss: 0.8635 - acc: 0.7608 - val_loss: 0.8483 - val_acc: 0.7674\n",
      "Epoch 17/60\n",
      " 29/125 [=====>........................] - ETA: 1:43 - loss: 0.8596 - acc: 0.7590"
     ]
    }
   ],
   "source": [
    "history = train_embed_model(data, learning_rate=0.002,\n",
    "                      epochs=60,\n",
    "                      batch_size=256,\n",
    "                      layers=2,\n",
    "                      units=32,\n",
    "                      dropout_rate=0.4)"
   ]
  },
  {
   "cell_type": "code",
   "execution_count": 27,
   "metadata": {},
   "outputs": [
    {
     "data": {
      "image/png": "[encoded data removed]",
      "text/plain": [
       "<Figure size 432x288 with 1 Axes>"
      ]
     },
     "metadata": {
      "needs_background": "light"
     },
     "output_type": "display_data"
    }
   ],
   "source": [
    "plot_loss(history)"
   ]
  },
  {
   "cell_type": "code",
   "execution_count": 28,
   "metadata": {},
   "outputs": [
    {
     "data": {
      "image/png": "[encoded data removed]",
      "text/plain": [
       "<Figure size 432x288 with 1 Axes>"
      ]
     },
     "metadata": {
      "needs_background": "light"
     },
     "output_type": "display_data"
    }
   ],
   "source": [
    "plot_acc(history)"
   ]
  },
  {
   "cell_type": "code",
   "execution_count": null,
   "metadata": {},
   "outputs": [],
   "source": []
  }
 ],
 "metadata": {
  "kernelspec": {
   "display_name": "Python 3",
   "language": "python",
   "name": "python3"
  },
  "language_info": {
   "codemirror_mode": {
    "name": "ipython",
    "version": 3
   },
   "file_extension": ".py",
   "mimetype": "text/x-python",
   "name": "python",
   "nbconvert_exporter": "python",
   "pygments_lexer": "ipython3",
   "version": "3.7.3"
  }
 },
 "nbformat": 4,
 "nbformat_minor": 2
}
